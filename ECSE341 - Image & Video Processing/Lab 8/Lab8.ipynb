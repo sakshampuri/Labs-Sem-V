{
 "metadata": {
  "language_info": {
   "codemirror_mode": {
    "name": "ipython",
    "version": 3
   },
   "file_extension": ".py",
   "mimetype": "text/x-python",
   "name": "python",
   "nbconvert_exporter": "python",
   "pygments_lexer": "ipython3",
   "version": "3.8.6-final"
  },
  "orig_nbformat": 2,
  "kernelspec": {
   "name": "Python 3.8.6 64-bit",
   "display_name": "Python 3.8.6 64-bit",
   "metadata": {
    "interpreter": {
     "hash": "aee8b7b246df8f9039afb4144a1f6fd8d2ca17a180786b69acc140d282b71a49"
    }
   }
  }
 },
 "nbformat": 4,
 "nbformat_minor": 2,
 "cells": [
  {
   "source": [
    "### 1.Write a program for performing following morphological operations\n",
    "#### a) Erosion\n",
    "#### b) Dilation\n",
    "#### c) Opening\n",
    "#### d) Closing"
   ],
   "cell_type": "markdown",
   "metadata": {}
  },
  {
   "cell_type": "code",
   "execution_count": 4,
   "metadata": {},
   "outputs": [],
   "source": [
    "import matplotlib.pyplot as plt\n",
    "from skimage.io import imread, imsave\n",
    "from skimage.morphology import erosion, dilation, opening, closing, white_tophat\n",
    "from skimage.morphology import black_tophat, skeletonize, convex_hull_image\n",
    "from skimage.morphology import disk, square, diamond\n",
    "from skimage.color import rgb2gray\n",
    "from skimage.util import img_as_ubyte"
   ]
  },
  {
   "cell_type": "code",
   "execution_count": 6,
   "metadata": {},
   "outputs": [
    {
     "output_type": "stream",
     "text": [
      "\u001b[0;31mSignature:\u001b[0m \u001b[0mimread\u001b[0m\u001b[0;34m(\u001b[0m\u001b[0mfname\u001b[0m\u001b[0;34m,\u001b[0m \u001b[0mas_gray\u001b[0m\u001b[0;34m=\u001b[0m\u001b[0;32mFalse\u001b[0m\u001b[0;34m,\u001b[0m \u001b[0mplugin\u001b[0m\u001b[0;34m=\u001b[0m\u001b[0;32mNone\u001b[0m\u001b[0;34m,\u001b[0m \u001b[0;34m**\u001b[0m\u001b[0mplugin_args\u001b[0m\u001b[0;34m)\u001b[0m\u001b[0;34m\u001b[0m\u001b[0;34m\u001b[0m\u001b[0m\n",
      "\u001b[0;31mDocstring:\u001b[0m\n",
      "Load an image from file.\n",
      "\n",
      "Parameters\n",
      "----------\n",
      "fname : string\n",
      "    Image file name, e.g. ``test.jpg`` or URL.\n",
      "as_gray : bool, optional\n",
      "    If True, convert color images to gray-scale (64-bit floats).\n",
      "    Images that are already in gray-scale format are not converted.\n",
      "plugin : str, optional\n",
      "    Name of plugin to use.  By default, the different plugins are\n",
      "    tried (starting with imageio) until a suitable\n",
      "    candidate is found.  If not given and fname is a tiff file, the\n",
      "    tifffile plugin will be used.\n",
      "\n",
      "Other Parameters\n",
      "----------------\n",
      "plugin_args : keywords\n",
      "    Passed to the given plugin.\n",
      "\n",
      "Returns\n",
      "-------\n",
      "img_array : ndarray\n",
      "    The different color bands/channels are stored in the\n",
      "    third dimension, such that a gray-image is MxN, an\n",
      "    RGB-image MxNx3 and an RGBA-image MxNx4.\n",
      "\u001b[0;31mFile:\u001b[0m      /usr/local/lib/python3.8/site-packages/skimage/io/_io.py\n",
      "\u001b[0;31mType:\u001b[0m      function\n"
     ],
     "name": "stdout"
    }
   ],
   "source": [
    "data = imread('./man')"
   ]
  },
  {
   "cell_type": "code",
   "execution_count": null,
   "metadata": {},
   "outputs": [],
   "source": []
  }
 ]
}