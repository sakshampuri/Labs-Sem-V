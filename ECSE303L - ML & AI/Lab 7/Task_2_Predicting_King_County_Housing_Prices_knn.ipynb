{
  "nbformat": 4,
  "nbformat_minor": 0,
  "metadata": {
    "colab": {
      "name": "Predicting_King_County_Housing_Prices_knn.ipynb",
      "provenance": [],
      "include_colab_link": true
    },
    "kernelspec": {
      "display_name": "Python 3",
      "language": "python",
      "name": "python3"
    },
    "language_info": {
      "codemirror_mode": {
        "name": "ipython",
        "version": 3
      },
      "file_extension": ".py",
      "mimetype": "text/x-python",
      "name": "python",
      "nbconvert_exporter": "python",
      "pygments_lexer": "ipython3",
      "version": "3.7.6"
    },
    "accelerator": "GPU"
  },
  "cells": [
    {
      "cell_type": "markdown",
      "metadata": {
        "id": "view-in-github",
        "colab_type": "text"
      },
      "source": [
        "<a href=\"https://colab.research.google.com/github/adityav1810/Semester_5_Labs/blob/master/ECSE303L-AIandML/Lab7/Task_2_Predicting_King_County_Housing_Prices_knn.ipynb\" target=\"_parent\"><img src=\"https://colab.research.google.com/assets/colab-badge.svg\" alt=\"Open In Colab\"/></a>"
      ]
    },
    {
      "cell_type": "markdown",
      "metadata": {
        "id": "89p--yWZd-sP"
      },
      "source": [
        "# K Nearest Neighbors: Predicting King County Housing Prices\n",
        "\n"
      ]
    },
    {
      "cell_type": "markdown",
      "metadata": {
        "id": "PVGoTvhOd-sR"
      },
      "source": [
        "Dataset\n",
        "The dataset is available at \"data/kc_house_data.csv\" in the respective challenge's repo.\n",
        "Original Source: https://www.kaggle.com/shivachandel/kc-house-data \n",
        "\n",
        "\n",
        "\n",
        "### How would you predict the price of a house that is about to go on sale?\n",
        "\n",
        "\n",
        "\n",
        "Online property companies offer valuations of houses using machine learning techniques. The aim of this report is to predict the house sales in King County, Washington State, USA using Multiple Linear Regression (MLR). The dataset consisted of historic data of houses sold between May 2014 to May 2015.\n",
        "We will predict the sales of houses in King County with an accuracy of at least 75-80% and understand which factors are responsible for higher property value - $650K and above.”\n",
        "\n",
        "The dataset consists of house prices from King County an area in the US State of Washington, this data also covers Seattle. \n",
        "\n",
        "\n",
        "\n",
        "The data set contains 21613 observations (home sales in 2014-15) with 19 features plus house price. Descriptions and names of the columns (features) are given below.\n",
        "\n",
        "## Features\n",
        "1.\tdate: Date house was sold\n",
        "2.\tprice: Price of the sold house\n",
        "3.\tbedrooms: Number of Bedrooms\n",
        "4.\tbathrooms: Number of bathrooms\n",
        "5.\tsqft_living: Square footage of the living space\n",
        "6.\tsqrt_lot: Square footage of the lot\n",
        "7.\tfloors: Total floors in the house\n",
        "8.\twaterfront: Whether the house is on a waterfront(1: yes, 0: no)\n",
        "9.\tview: special view?\n",
        "10.\tcondition: Condition of the house\n",
        "11.\tgrade: unknown\n",
        "12.\tsqft_above: Square footage of house apart from basement\n",
        "13.\tsqft_basement: Square footage of the basement\n",
        "14.\tyr_built: Built year\n",
        "15.\tyr_renovated: Year when the house was renovated\n",
        "16.\tzipcode: zipcode of the house\n",
        "17.\tlat: Latitude coordinate\n",
        "18.\tlong Longitude coordinate\n",
        "19.\tsqft_living15: Living room area in 2015(implies some renovations)\n",
        "20.\tsqrt_lot15: Lot area in 2015(implies some renovations)\n",
        "\n",
        "### X = house_data[features]\n",
        "### y = house_data['price'].values\n",
        "\n",
        "\n"
      ]
    },
    {
      "cell_type": "markdown",
      "metadata": {
        "id": "RCWYZG32d-sR"
      },
      "source": [
        "## Similar houses should be similar in price\n",
        "\n",
        "* Square footage\n",
        "* Number of floors\n",
        "* Location\n",
        "\n",
        "\n",
        "## Distance as a measure of similarity\n",
        "\n",
        "How 'far away' are houses from each other given all of their features?\n",
        "\n"
      ]
    },
    {
      "cell_type": "markdown",
      "metadata": {
        "id": "_MTRz2u8d-sS"
      },
      "source": [
        "## What is K-Nearest Neighbors?\n",
        "\n",
        "**_K-Nearest Neighbors_** (or KNN, for short) is a supervised learning algorithm that can be used for both **_Classification_** and **_Regression_** tasks. KNN is a distance-based classifier, meaning that it implicitly assumes that the smaller the distance between 2 points, the more similar they are. In KNN, each column acts as a dimension. In a dataset with two columns, we can easily visualize this by treating values for one column as X coordinates and and the other as Y coordinates. Since this is a **_Supervised Learning Algorithm_**, we must also have the labels for each point in our dataset, or else we can't use this algorithm for prediction.\n",
        "\n",
        "## Fitting the Model\n",
        "\n",
        "KNN is unique compared to other algorithms in that it does almost nothing during the \"fit\" step, and all the work during the \"predict\" step. During the 'fit' step, KNN just stores all the training data and corresponding values. No distances are calculated at this point. \n",
        "\n",
        "## Making Predictions with K\n",
        "\n",
        "All the magic happens during the 'predict' step. During this step, KNN takes a point that we want a class prediction for, and calculates the distances between that point and every single point in the training set. It then finds the `K` closest points, or **_Neighbors_**, and examines the values of each. You can think of each of the K-closest points getting a 'vote' about the predicted value. Often times the mean of all the values is taken to make a prediction about the new point.\n",
        "\n",
        "In the following animation, K=3.\n",
        "\n",
        "<img src='https://github.com/Bmcgarry194/knn_workshop/blob/master/knn.gif?raw=1'>\n",
        "\n",
        "## Distance Metrics\n",
        "\n",
        "As we explored in a previous lesson, there are different **_distance metrics_** when using KNN. For KNN, we can use **_Manhattan_**, **_Euclidean_**, or **_Minkowski Distance_**--from an algorithmic standpoint, it doesn't matter which! However, it should be noted that from a practical standpoint, these can affect our results and our overall model performance. \n"
      ]
    },
    {
      "cell_type": "markdown",
      "metadata": {
        "id": "faWZNTxshZmv"
      },
      "source": [
        "Tasks\n",
        "1.\tCompare KNN Classifier and Logistic Regression\n",
        "2.\tCreating our own implementation of KNN regressor by using generate_moons_df i.e., random dataset\n",
        "3.\tHousing data predictions\n",
        "4.\tLimit our predictions to the middle 80% of our dataset\n",
        "5.\tApply data scaling\n",
        "6.\tPredict data using your own knn\n",
        "7.\tPredict data using sklearn’s knn\n",
        "8.\tChoosing the optimal number of neighbors: Model behavior with increasing k for classification problem\n",
        "9.\tFinding optimal k for King County Dataset\n",
        "\n",
        "\n",
        "Download and load the data (csv file contains ';' as delimiter)"
      ]
    },
    {
      "cell_type": "code",
      "metadata": {
        "id": "liciG9cUd-sT",
        "outputId": "ba979ba4-2f0e-468d-e8c6-58a7395ce6d7",
        "colab": {
          "base_uri": "https://localhost:8080/",
          "height": 73
        }
      },
      "source": [
        "import matplotlib.pyplot as plt\n",
        "import seaborn as sns\n",
        "from scipy.spatial.distance import euclidean as euc\n",
        "import numpy as np\n",
        "import pandas as pd\n",
        "from sklearn.datasets import make_classification\n",
        "#from visualize import generate_moons_df, preprocess, plot_boundaries\n",
        "from sklearn.preprocessing import MinMaxScaler\n",
        "from sklearn.model_selection import train_test_split, cross_val_score\n",
        "from sklearn.metrics import mean_squared_error, r2_score\n",
        "from sklearn.preprocessing import StandardScaler\n",
        "from sklearn.preprocessing import OneHotEncoder, LabelEncoder\n",
        "from sklearn.metrics import classification_report\n",
        "from sklearn.linear_model import LogisticRegression\n",
        "from sklearn.neighbors import KNeighborsClassifier\n",
        "from collections import Counter\n",
        "np.random.seed(0)"
      ],
      "execution_count": 1,
      "outputs": [
        {
          "output_type": "stream",
          "text": [
            "/usr/local/lib/python3.6/dist-packages/statsmodels/tools/_testing.py:19: FutureWarning: pandas.util.testing is deprecated. Use the functions in the public API at pandas.testing instead.\n",
            "  import pandas.util.testing as tm\n"
          ],
          "name": "stderr"
        }
      ]
    },
    {
      "cell_type": "code",
      "metadata": {
        "id": "7VGZ7uG7-gXT"
      },
      "source": [
        "df=pd.read_csv('https://raw.githubusercontent.com/adityav1810/Semester_5_Labs/master/ECSE303L-AIandML/Lab7/kc_house_data.csv')"
      ],
      "execution_count": 2,
      "outputs": []
    },
    {
      "cell_type": "code",
      "metadata": {
        "id": "MFELa9Bc-lGR",
        "outputId": "3277c44a-1d7f-429e-c864-09600250cd55",
        "colab": {
          "base_uri": "https://localhost:8080/",
          "height": 218
        }
      },
      "source": [
        "df.head()"
      ],
      "execution_count": 3,
      "outputs": [
        {
          "output_type": "execute_result",
          "data": {
            "text/html": [
              "<div>\n",
              "<style scoped>\n",
              "    .dataframe tbody tr th:only-of-type {\n",
              "        vertical-align: middle;\n",
              "    }\n",
              "\n",
              "    .dataframe tbody tr th {\n",
              "        vertical-align: top;\n",
              "    }\n",
              "\n",
              "    .dataframe thead th {\n",
              "        text-align: right;\n",
              "    }\n",
              "</style>\n",
              "<table border=\"1\" class=\"dataframe\">\n",
              "  <thead>\n",
              "    <tr style=\"text-align: right;\">\n",
              "      <th></th>\n",
              "      <th>id</th>\n",
              "      <th>date</th>\n",
              "      <th>price</th>\n",
              "      <th>bedrooms</th>\n",
              "      <th>bathrooms</th>\n",
              "      <th>sqft_living</th>\n",
              "      <th>sqft_lot</th>\n",
              "      <th>floors</th>\n",
              "      <th>waterfront</th>\n",
              "      <th>view</th>\n",
              "      <th>condition</th>\n",
              "      <th>grade</th>\n",
              "      <th>sqft_above</th>\n",
              "      <th>sqft_basement</th>\n",
              "      <th>yr_built</th>\n",
              "      <th>yr_renovated</th>\n",
              "      <th>zipcode</th>\n",
              "      <th>lat</th>\n",
              "      <th>long</th>\n",
              "      <th>sqft_living15</th>\n",
              "      <th>sqft_lot15</th>\n",
              "    </tr>\n",
              "  </thead>\n",
              "  <tbody>\n",
              "    <tr>\n",
              "      <th>0</th>\n",
              "      <td>7129300520</td>\n",
              "      <td>20141013T000000</td>\n",
              "      <td>221900.0</td>\n",
              "      <td>3</td>\n",
              "      <td>1.00</td>\n",
              "      <td>1180</td>\n",
              "      <td>5650</td>\n",
              "      <td>1.0</td>\n",
              "      <td>0</td>\n",
              "      <td>0</td>\n",
              "      <td>3</td>\n",
              "      <td>7</td>\n",
              "      <td>1180.0</td>\n",
              "      <td>0</td>\n",
              "      <td>1955</td>\n",
              "      <td>0</td>\n",
              "      <td>98178</td>\n",
              "      <td>47.5112</td>\n",
              "      <td>-122.257</td>\n",
              "      <td>1340</td>\n",
              "      <td>5650</td>\n",
              "    </tr>\n",
              "    <tr>\n",
              "      <th>1</th>\n",
              "      <td>6414100192</td>\n",
              "      <td>20141209T000000</td>\n",
              "      <td>538000.0</td>\n",
              "      <td>3</td>\n",
              "      <td>2.25</td>\n",
              "      <td>2570</td>\n",
              "      <td>7242</td>\n",
              "      <td>2.0</td>\n",
              "      <td>0</td>\n",
              "      <td>0</td>\n",
              "      <td>3</td>\n",
              "      <td>7</td>\n",
              "      <td>2170.0</td>\n",
              "      <td>400</td>\n",
              "      <td>1951</td>\n",
              "      <td>1991</td>\n",
              "      <td>98125</td>\n",
              "      <td>47.7210</td>\n",
              "      <td>-122.319</td>\n",
              "      <td>1690</td>\n",
              "      <td>7639</td>\n",
              "    </tr>\n",
              "    <tr>\n",
              "      <th>2</th>\n",
              "      <td>5631500400</td>\n",
              "      <td>20150225T000000</td>\n",
              "      <td>180000.0</td>\n",
              "      <td>2</td>\n",
              "      <td>1.00</td>\n",
              "      <td>770</td>\n",
              "      <td>10000</td>\n",
              "      <td>1.0</td>\n",
              "      <td>0</td>\n",
              "      <td>0</td>\n",
              "      <td>3</td>\n",
              "      <td>6</td>\n",
              "      <td>770.0</td>\n",
              "      <td>0</td>\n",
              "      <td>1933</td>\n",
              "      <td>0</td>\n",
              "      <td>98028</td>\n",
              "      <td>47.7379</td>\n",
              "      <td>-122.233</td>\n",
              "      <td>2720</td>\n",
              "      <td>8062</td>\n",
              "    </tr>\n",
              "    <tr>\n",
              "      <th>3</th>\n",
              "      <td>2487200875</td>\n",
              "      <td>20141209T000000</td>\n",
              "      <td>604000.0</td>\n",
              "      <td>4</td>\n",
              "      <td>3.00</td>\n",
              "      <td>1960</td>\n",
              "      <td>5000</td>\n",
              "      <td>1.0</td>\n",
              "      <td>0</td>\n",
              "      <td>0</td>\n",
              "      <td>5</td>\n",
              "      <td>7</td>\n",
              "      <td>1050.0</td>\n",
              "      <td>910</td>\n",
              "      <td>1965</td>\n",
              "      <td>0</td>\n",
              "      <td>98136</td>\n",
              "      <td>47.5208</td>\n",
              "      <td>-122.393</td>\n",
              "      <td>1360</td>\n",
              "      <td>5000</td>\n",
              "    </tr>\n",
              "    <tr>\n",
              "      <th>4</th>\n",
              "      <td>1954400510</td>\n",
              "      <td>20150218T000000</td>\n",
              "      <td>510000.0</td>\n",
              "      <td>3</td>\n",
              "      <td>2.00</td>\n",
              "      <td>1680</td>\n",
              "      <td>8080</td>\n",
              "      <td>1.0</td>\n",
              "      <td>0</td>\n",
              "      <td>0</td>\n",
              "      <td>3</td>\n",
              "      <td>8</td>\n",
              "      <td>1680.0</td>\n",
              "      <td>0</td>\n",
              "      <td>1987</td>\n",
              "      <td>0</td>\n",
              "      <td>98074</td>\n",
              "      <td>47.6168</td>\n",
              "      <td>-122.045</td>\n",
              "      <td>1800</td>\n",
              "      <td>7503</td>\n",
              "    </tr>\n",
              "  </tbody>\n",
              "</table>\n",
              "</div>"
            ],
            "text/plain": [
              "           id             date     price  ...     long  sqft_living15  sqft_lot15\n",
              "0  7129300520  20141013T000000  221900.0  ... -122.257           1340        5650\n",
              "1  6414100192  20141209T000000  538000.0  ... -122.319           1690        7639\n",
              "2  5631500400  20150225T000000  180000.0  ... -122.233           2720        8062\n",
              "3  2487200875  20141209T000000  604000.0  ... -122.393           1360        5000\n",
              "4  1954400510  20150218T000000  510000.0  ... -122.045           1800        7503\n",
              "\n",
              "[5 rows x 21 columns]"
            ]
          },
          "metadata": {
            "tags": []
          },
          "execution_count": 3
        }
      ]
    },
    {
      "cell_type": "code",
      "metadata": {
        "id": "03sYQY9_-v_j",
        "outputId": "1e251fcd-42c4-4a89-ba4a-cc5650fc5325",
        "colab": {
          "base_uri": "https://localhost:8080/",
          "height": 35
        }
      },
      "source": [
        "df.shape"
      ],
      "execution_count": 4,
      "outputs": [
        {
          "output_type": "execute_result",
          "data": {
            "text/plain": [
              "(21613, 21)"
            ]
          },
          "metadata": {
            "tags": []
          },
          "execution_count": 4
        }
      ]
    },
    {
      "cell_type": "code",
      "metadata": {
        "id": "nX6kOTcX-w9h"
      },
      "source": [
        "le = LabelEncoder()\n",
        "cols = ['date']\n",
        "df[cols[0:]] = df[cols[0:]].apply(lambda col: le.fit_transform(col))"
      ],
      "execution_count": 5,
      "outputs": []
    },
    {
      "cell_type": "code",
      "metadata": {
        "id": "FXl1525t-_13"
      },
      "source": [
        "columns = df.columns\n",
        "mms = MinMaxScaler()\n",
        "df[columns] = mms.fit_transform(df[columns])"
      ],
      "execution_count": 6,
      "outputs": []
    },
    {
      "cell_type": "code",
      "metadata": {
        "id": "nlfmXzeE-_6M"
      },
      "source": [
        "class knn:\n",
        "  def __init__(self,k=3):\n",
        "    self.k = k\n",
        "  def fit(self,X,y):\n",
        "    self.X_train = X\n",
        "    self.y_train = y\n",
        "\n",
        "  def predict(self,X):\n",
        "    predicted_labels = [self._predict(x) for x in X]\n",
        "    return np.array(predicted_labels)\n",
        "\n",
        "  def _predict(self,x):\n",
        "    dist = [euc(x,x_train) for x_train in self.X_train]\n",
        "\n",
        "    ##get k nearest samples\n",
        "    k_indices = np.argsort(dist)[:self.k]\n",
        "    k_nearest_labels = [self.y_train[i] for i in k_indices]\n",
        "    #majority vote\n",
        "    most_common = Counter(k_nearest_labels).most_common(1)\n",
        "    return most_common[0][0]"
      ],
      "execution_count": 7,
      "outputs": []
    },
    {
      "cell_type": "code",
      "metadata": {
        "id": "OQf7Rq_1_ABb"
      },
      "source": [
        "features = ['sqft_living', 'lat', 'long']\n",
        "\n",
        "X = df[features]\n",
        "y = df['price']\n",
        "data = X.join(y)"
      ],
      "execution_count": 8,
      "outputs": []
    },
    {
      "cell_type": "code",
      "metadata": {
        "id": "DnI3misf-__e"
      },
      "source": [
        "data=np.array(data)"
      ],
      "execution_count": 9,
      "outputs": []
    },
    {
      "cell_type": "code",
      "metadata": {
        "id": "KOTB9-bk-_9E"
      },
      "source": [
        "X=np.array(X)\n",
        "y=np.array(y)"
      ],
      "execution_count": 10,
      "outputs": []
    },
    {
      "cell_type": "code",
      "metadata": {
        "id": "x28-01Dt-_4B"
      },
      "source": [
        "X_train, X_test, y_train, y_test = train_test_split(X,y , test_size=0.30, random_state=42)"
      ],
      "execution_count": 11,
      "outputs": []
    },
    {
      "cell_type": "code",
      "metadata": {
        "id": "vMnhb5SO_h8j"
      },
      "source": [
        "clf = knn(k=3)\n",
        "clf.fit(X_train,y_train)\n",
        "predictions = clf.predict(X_test)\n"
      ],
      "execution_count": 12,
      "outputs": []
    },
    {
      "cell_type": "markdown",
      "metadata": {
        "id": "ArG9xd6qd-tB"
      },
      "source": [
        "## Lets use Sklearn's KNN implementation"
      ]
    },
    {
      "cell_type": "code",
      "metadata": {
        "id": "beGkTz9Xd-tC"
      },
      "source": [
        "from sklearn.neighbors import KNeighborsRegressor"
      ],
      "execution_count": 13,
      "outputs": []
    },
    {
      "cell_type": "code",
      "metadata": {
        "id": "DsRxRh_Nd-tE",
        "outputId": "151bfa87-3a07-4fb5-af49-13709019aaea",
        "colab": {
          "base_uri": "https://localhost:8080/",
          "height": 53
        }
      },
      "source": [
        "nn = KNeighborsRegressor(n_neighbors=5, n_jobs=-1)\n",
        "\n",
        "nn.fit(X_train, y_train)\n",
        "\n",
        "sk_preds = nn.predict(X_test)\n",
        "acc = (np.sum(sk_preds == y_test)/len(y_test))*100\n",
        "rmse = np.sqrt(mean_squared_error(y_test,sk_preds))\n",
        "\n",
        "print(f'Root Mean Squared Error: {rmse:.2f}')\n",
        "print(\"The testing accuracy \", acc)"
      ],
      "execution_count": 14,
      "outputs": [
        {
          "output_type": "stream",
          "text": [
            "Root Mean Squared Error: 0.02\n",
            "The testing accuracy  0.030845157310302282\n"
          ],
          "name": "stdout"
        }
      ]
    },
    {
      "cell_type": "markdown",
      "metadata": {
        "id": "pn74JhIed-tG"
      },
      "source": [
        "## Choosing the optimal number of neighbors: Model behavior with increasing k"
      ]
    },
    {
      "cell_type": "markdown",
      "metadata": {
        "id": "uayim_wyd-tI"
      },
      "source": [
        "What can we say about the bias and variance of these models?"
      ]
    },
    {
      "cell_type": "markdown",
      "metadata": {
        "id": "o5-mG5RYd-tJ"
      },
      "source": [
        "## Finding optimal k for King County Dataset"
      ]
    },
    {
      "cell_type": "code",
      "metadata": {
        "id": "Pf81Pl4dd-tH",
        "outputId": "69bf156d-5e88-429b-9349-1a2800a0d41e",
        "colab": {
          "base_uri": "https://localhost:8080/",
          "height": 320
        }
      },
      "source": [
        "ks = range(1, 30)\n",
        "\n",
        "test_errors = np.zeros(len(list(ks)))\n",
        "\n",
        "for i, k in enumerate(ks):\n",
        "    \n",
        "    nn = KNeighborsRegressor(n_neighbors=k, n_jobs=-1)\n",
        "\n",
        "    nn.fit(X_train,y_train)\n",
        "    test_preds = nn.predict(X_test)\n",
        "    \n",
        "    test_errors[i] = np.sqrt(mean_squared_error(y_test,test_preds))\n",
        "fig, ax = plt.subplots(figsize=(10, 5))\n",
        "\n",
        "ax.plot(list(ks), test_errors)\n",
        "ax.axvline(list(ks)[np.argmin(test_errors)], linestyle='--', color='black');\n"
      ],
      "execution_count": 15,
      "outputs": [
        {
          "output_type": "display_data",
          "data": {
            "image/png": "[encoded data removed]",
            "text/plain": [
              "<Figure size 720x360 with 1 Axes>"
            ]
          },
          "metadata": {
            "tags": [],
            "needs_background": "light"
          }
        }
      ]
    },
    {
      "cell_type": "code",
      "metadata": {
        "id": "kGyC_kbDd-tN",
        "outputId": "3b9aa89a-6396-4ab6-878d-79e583cd049d",
        "colab": {
          "base_uri": "https://localhost:8080/",
          "height": 35
        }
      },
      "source": [
        "optimal_k = list(ks)[np.argmin(test_errors)]\n",
        "\n",
        "optimal_error = np.min(test_errors)\n",
        "\n",
        "print(f'Optimal number of Neighbors: {optimal_k} Root Mean Squared Error: {optimal_error:.2f}')"
      ],
      "execution_count": 16,
      "outputs": [
        {
          "output_type": "stream",
          "text": [
            "Optimal number of Neighbors: 15 Root Mean Squared Error: 0.02\n"
          ],
          "name": "stdout"
        }
      ]
    }
  ]
}